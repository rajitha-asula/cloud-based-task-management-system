{
 "cells": [
  {
   "cell_type": "markdown",
   "metadata": {},
   "source": [
    "## Cloud Based Task Management System"
   ]
  },
  {
   "cell_type": "code",
   "execution_count": null,
   "metadata": {
    "vscode": {
     "languageId": "plaintext"
    }
   },
   "outputs": [],
   "source": [
    "# Applicabe only for google collab\n",
    "from google.colab import drive\n",
    "drive.mount('/content/drive')"
   ]
  },
  {
   "cell_type": "code",
   "execution_count": null,
   "metadata": {
    "vscode": {
     "languageId": "plaintext"
    }
   },
   "outputs": [],
   "source": [
    "# Imported dependencies for the model\n",
    "import pandas as pd\n",
    "import numpy as np\n",
    "from sklearn.impute import SimpleImputer\n",
    "from sklearn.preprocessing import StandardScaler, OneHotEncoder, LabelEncoder\n",
    "from sklearn.compose import ColumnTransformer\n",
    "from sklearn.pipeline import Pipeline\n",
    "from sklearn.model_selection import train_test_split\n",
    "from sklearn.metrics import classification_report, accuracy_score, mean_squared_error, r2_score\n",
    "from xgboost import XGBClassifier, XGBRegressor\n",
    "import matplotlib.pyplot as plt\n",
    "import seaborn as sns\n",
    "import joblib\n",
    "from google.colab import files\n"
   ]
  },
  {
   "cell_type": "code",
   "execution_count": null,
   "metadata": {
    "vscode": {
     "languageId": "plaintext"
    }
   },
   "outputs": [],
   "source": [
    "# importing the dataset\n",
    "df = pd.read_csv('/content/drive/MyDrive/CBTMS/dataset.csv')\n",
    "df['timestamp'] = pd.to_datetime(df['timestamp'], errors='coerce')\n",
    "df = df.dropna(subset=['task_status', 'timestamp']).copy()\n",
    "\n",
    "num_cols = ['cpu_usage', 'memory_usage', 'network_traffic', 'power_consumption', 'num_executed_instructions', 'execution_time', 'energy_efficiency']\n",
    "for col in num_cols:\n",
    "    df[col] = df[col].fillna(df[col].median())\n",
    "\n",
    "df[['task_type', 'task_priority']] = df[['task_type', 'task_priority']].fillna('unknown')\n",
    "\n"
   ]
  },
  {
   "cell_type": "code",
   "execution_count": null,
   "metadata": {
    "vscode": {
     "languageId": "plaintext"
    }
   },
   "outputs": [],
   "source": [
    "df.info()"
   ]
  },
  {
   "cell_type": "code",
   "execution_count": null,
   "metadata": {
    "vscode": {
     "languageId": "plaintext"
    }
   },
   "outputs": [],
   "source": [
    "df.head()"
   ]
  },
  {
   "cell_type": "code",
   "execution_count": null,
   "metadata": {
    "vscode": {
     "languageId": "plaintext"
    }
   },
   "outputs": [],
   "source": [
    "df['hour'] = df['timestamp'].dt.hour\n",
    "df['day'] = df['timestamp'].dt.day\n",
    "df['weekday'] = df['timestamp'].dt.weekday\n",
    "df = df.drop(columns=['timestamp', 'vm_id'])\n",
    "\n",
    "df['cpu_mem_ratio'] = df['cpu_usage'] / (df['memory_usage'] + 1e-6)\n",
    "df['power_per_instruction'] = df['power_consumption'] / (df['num_executed_instructions'] + 1e-6)\n",
    "df['instruction_density'] = df['num_executed_instructions'] / (df['execution_time'] + 1e-6)\n",
    "df['power_per_sec'] = df['power_consumption'] / (df['execution_time'] + 1e-6)\n",
    "df['cpu_per_sec'] = df['cpu_usage'] / (df['execution_time'] + 1e-6)\n",
    "\n"
   ]
  },
  {
   "cell_type": "code",
   "execution_count": null,
   "metadata": {
    "vscode": {
     "languageId": "plaintext"
    }
   },
   "outputs": [],
   "source": [
    "df = df[df['task_priority'] != 'unknown'].copy()\n",
    "label_encoder = LabelEncoder()\n",
    "df['task_priority_label'] = label_encoder.fit_transform(df['task_priority'])\n",
    "\n"
   ]
  },
  {
   "cell_type": "code",
   "execution_count": null,
   "metadata": {
    "vscode": {
     "languageId": "plaintext"
    }
   },
   "outputs": [],
   "source": [
    "numeric_cols = [\n",
    "    'cpu_usage', 'memory_usage', 'network_traffic', 'power_consumption', 'num_executed_instructions',\n",
    "    'execution_time', 'hour', 'day', 'weekday', 'cpu_mem_ratio', 'power_per_instruction',\n",
    "    'instruction_density', 'power_per_sec', 'cpu_per_sec']\n",
    "categorical_cols = ['task_type', 'task_status']\n",
    "\n",
    "numeric_transformer = Pipeline(steps=[\n",
    "    ('imputer', SimpleImputer(strategy='median')),\n",
    "    ('scaler', StandardScaler())\n",
    "])\n",
    "categorical_transformer = Pipeline(steps=[\n",
    "    ('imputer', SimpleImputer(strategy='constant', fill_value='missing')),\n",
    "    ('onehot', OneHotEncoder(handle_unknown='ignore', sparse_output=False))\n",
    "])\n",
    "\n",
    "preprocessor = ColumnTransformer(transformers=[\n",
    "    ('num', numeric_transformer, numeric_cols),\n",
    "    ('cat', categorical_transformer, categorical_cols)\n",
    "])\n",
    "\n"
   ]
  },
  {
   "cell_type": "code",
   "execution_count": null,
   "metadata": {
    "vscode": {
     "languageId": "plaintext"
    }
   },
   "outputs": [],
   "source": [
    "X = df[numeric_cols + categorical_cols]\n",
    "y_cls = df['task_priority_label']\n",
    "y_reg = df['energy_efficiency']\n",
    "\n",
    "X_processed = preprocessor.fit_transform(X)\n",
    "\n",
    "X_train, X_test, y_cls_train, y_cls_test, y_reg_train, y_reg_test = train_test_split(\n",
    "    X_processed, y_cls, y_reg, test_size=0.2, stratify=y_cls, random_state=42\n",
    ")\n",
    "\n"
   ]
  },
  {
   "cell_type": "code",
   "execution_count": null,
   "metadata": {
    "vscode": {
     "languageId": "plaintext"
    }
   },
   "outputs": [],
   "source": [
    "xgb_cls = XGBClassifier(\n",
    "    tree_method='hist', device='cuda', n_estimators=100,\n",
    "    max_depth=6, learning_rate=0.1, random_state=42\n",
    ")\n",
    "xgb_cls.fit(X_train, y_cls_train)\n",
    "\n",
    "y_pred_cls = xgb_cls.predict(X_test)\n",
    "print(\"🔍 Classification Accuracy:\", accuracy_score(y_cls_test, y_pred_cls))\n",
    "print(\"Classification Report:\\n\", classification_report(y_cls_test, y_pred_cls, target_names=label_encoder.classes_))\n",
    "\n",
    "xgb_reg = XGBRegressor(\n",
    "    tree_method='hist', device='cuda', n_estimators=100,\n",
    "    max_depth=6, learning_rate=0.1, random_state=42\n",
    ")\n",
    "xgb_reg.fit(X_train, y_reg_train)\n",
    "\n",
    "y_pred_reg = xgb_reg.predict(X_test)\n",
    "print(\"Energy Efficiency Regression:\")\n",
    "print(\"MSE:\", mean_squared_error(y_reg_test, y_pred_reg))\n",
    "print(\"R² Score:\", r2_score(y_reg_test, y_pred_reg))\n",
    "\n"
   ]
  },
  {
   "cell_type": "code",
   "execution_count": null,
   "metadata": {
    "vscode": {
     "languageId": "plaintext"
    }
   },
   "outputs": [],
   "source": [
    "feature_names = numeric_cols + list(preprocessor.named_transformers_['cat']['onehot'].get_feature_names_out(categorical_cols))\n",
    "importances = xgb_cls.feature_importances_\n",
    "indices = np.argsort(importances)[-15:]\n",
    "\n",
    "plt.figure(figsize=(10, 6))\n",
    "plt.barh(range(len(indices)), importances[indices])\n",
    "plt.yticks(range(len(indices)), [feature_names[i] for i in indices])\n",
    "plt.title(\"Top 15 Feature Importances - Task Priority\")\n",
    "plt.xlabel(\"Importance\")\n",
    "plt.show()"
   ]
  },
  {
   "cell_type": "code",
   "execution_count": null,
   "metadata": {
    "vscode": {
     "languageId": "plaintext"
    }
   },
   "outputs": [],
   "source": [
    "joblib.dump(xgb_cls, \"xgb_task_priority_model.pkl\")\n",
    "joblib.dump(xgb_reg, \"xgb_energy_model.pkl\")\n",
    "joblib.dump(preprocessor, \"task_preprocessor.pkl\")\n",
    "joblib.dump(label_encoder, \"label_encoder.pkl\")\n",
    "files.download(\"xgb_task_priority_model.pkl\")\n",
    "files.download(\"xgb_energy_model.pkl\")\n",
    "files.download(\"task_preprocessor.pkl\")\n",
    "files.download(\"label_encoder.pkl\")"
   ]
  }
 ],
 "metadata": {
  "language_info": {
   "name": "python"
  }
 },
 "nbformat": 4,
 "nbformat_minor": 2
}
